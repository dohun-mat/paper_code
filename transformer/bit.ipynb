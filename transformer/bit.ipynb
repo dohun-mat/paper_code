{
 "cells": [
  {
   "cell_type": "code",
   "execution_count": 1,
   "id": "8720ebf9",
   "metadata": {},
   "outputs": [],
   "source": [
    "from functools import partial\n",
    "from collections import OrderedDict"
   ]
  },
  {
   "cell_type": "code",
   "execution_count": 2,
   "id": "be818b63",
   "metadata": {},
   "outputs": [],
   "source": [
    "%config InlineBackend.figure_format = 'retina'\n",
    "\n",
    "import numpy as np\n",
    "\n",
    "import matplotlib.pyplot as plt\n",
    "from mpl_toolkits.axes_grid1 import ImageGrid\n",
    "     "
   ]
  },
  {
   "cell_type": "code",
   "execution_count": 3,
   "id": "87112ece",
   "metadata": {},
   "outputs": [],
   "source": [
    "import torch\n",
    "import torch.nn as nn\n",
    "import torch.nn.functional as F\n",
    "from torch.autograd import Variable\n",
    "\n",
    "import torchvision as tv"
   ]
  },
  {
   "cell_type": "code",
   "execution_count": 4,
   "id": "abe45701",
   "metadata": {},
   "outputs": [
    {
     "name": "stdout",
     "output_type": "stream",
     "text": [
      "cuda:0\n"
     ]
    }
   ],
   "source": [
    "device = torch.device(\"cuda:0\" if torch.cuda.is_available() else \"cpu\")\n",
    "print(device)"
   ]
  },
  {
   "cell_type": "markdown",
   "id": "5f32880d",
   "metadata": {},
   "source": [
    "# Reading weight data from the Cloud bucket"
   ]
  },
  {
   "cell_type": "code",
   "execution_count": 5,
   "id": "e8dd83da",
   "metadata": {},
   "outputs": [],
   "source": [
    "\n",
    "import requests\n",
    "import io"
   ]
  },
  {
   "cell_type": "code",
   "execution_count": 6,
   "id": "b727d5f5",
   "metadata": {},
   "outputs": [],
   "source": [
    "def get_weights(bit_variant):\n",
    "    response = requests.get(f'https://storage.googleapis.com/bit_models/{bit_variant}.npz')\n",
    "    response.raise_for_status()\n",
    "    return np.load(io.BytesIO(response.content))\n",
    "     "
   ]
  },
  {
   "cell_type": "code",
   "execution_count": 7,
   "id": "938a07dc",
   "metadata": {},
   "outputs": [],
   "source": [
    "weights = get_weights('BiT-M-R50x1')  \n",
    "# You could use other variants, such as R101x3 or R152x4 her"
   ]
  },
  {
   "cell_type": "markdown",
   "id": "2d57a88d",
   "metadata": {},
   "source": [
    "# Defining the architecture and loading weights"
   ]
  },
  {
   "cell_type": "code",
   "execution_count": 8,
   "id": "c8855b62",
   "metadata": {},
   "outputs": [],
   "source": [
    "class StdConv2d(nn.Conv2d):\n",
    "    def forward(self, x):\n",
    "        w = self.weight\n",
    "        v, m = torch.var_mean(w, dim=[1, 2, 3], keepdim=True, unbiased=False)\n",
    "        w = (w - m) / torch.sqrt(v + 1e-10)\n",
    "        return F.conv2d(x, w, self.bias, self.stride, self.padding, self.dilation, self.groups)"
   ]
  },
  {
   "cell_type": "code",
   "execution_count": 9,
   "id": "66a639f4",
   "metadata": {},
   "outputs": [],
   "source": [
    "def conv3x3(cin, cout, stride=1, groups=1, bias=False):\n",
    "    return StdConv2d(cin, cout, kernel_size=3, stride=stride, padding=1, bias=bias, groups=groups)\n",
    "\n",
    "def conv1x1(cin, cout, stride=1, bias=False):\n",
    "    return StdConv2d(cin, cout, kernel_size=1, stride=stride, padding=0, bias=bias)"
   ]
  },
  {
   "cell_type": "code",
   "execution_count": 10,
   "id": "debc509f",
   "metadata": {},
   "outputs": [],
   "source": [
    "def tf2th(conv_weights):\n",
    "    \"\"\"Possibly convert HWIO to OIHW\"\"\"\n",
    "    if conv_weights.ndim == 4:\n",
    "        conv_weights = np.transpose(conv_weights, [3, 2, 0, 1])\n",
    "    return torch.from_numpy(conv_weights)\n",
    "     "
   ]
  },
  {
   "cell_type": "code",
   "execution_count": 11,
   "id": "84cc3c42",
   "metadata": {},
   "outputs": [],
   "source": [
    "class PreActBottleneck(nn.Module):\n",
    "#  \"\"\"\n",
    "#   Follows the implementation of \"Identity Mappings in Deep Residual Networks\" here:\n",
    "#   https://github.com/KaimingHe/resnet-1k-layers/blob/master/resnet-pre-act.lua\n",
    "\n",
    "#   Except it puts the stride on 3x3 conv when available.\n",
    "#   \"\"\"\n",
    "    def __init__(self, cin, cout=None, cmid=None, stride=1):\n",
    "        super().__init__()\n",
    "        cout = cout or cin\n",
    "        cmid = cmid or cout//4\n",
    "\n",
    "        self.gn1 = nn.GroupNorm(32, cin)\n",
    "        self.conv1 = conv1x1(cin, cmid)\n",
    "        self.gn2 = nn.GroupNorm(32, cmid)\n",
    "        self.conv2 = conv3x3(cmid, cmid, stride)  # Original ResNetv2 has it on conv1!!\n",
    "        self.gn3 = nn.GroupNorm(32, cmid)\n",
    "        self.conv3 = conv1x1(cmid, cout)\n",
    "        self.relu = nn.ReLU(inplace=True)\n",
    "\n",
    "        if (stride != 1 or cin != cout):\n",
    "            # Projection also with pre-activation according to paper.\n",
    "            self.downsample = conv1x1(cin, cout, stride)\n",
    "\n",
    "    def forward(self, x):\n",
    "        # Conv'ed branch\n",
    "        out = self.relu(self.gn1(x))\n",
    "\n",
    "        # Residual branch\n",
    "        residual = x\n",
    "        if hasattr(self, 'downsample'):\n",
    "            residual = self.downsample(out)\n",
    "\n",
    "        # The first block has already applied pre-act before splitting, see Appendix.\n",
    "        out = self.conv1(out)\n",
    "        out = self.conv2(self.relu(self.gn2(out)))\n",
    "        out = self.conv3(self.relu(self.gn3(out)))\n",
    "\n",
    "        return out + residual\n",
    "\n",
    "    def load_from(self, weights, prefix=''):\n",
    "        with torch.no_grad():\n",
    "            self.conv1.weight.copy_(tf2th(weights[prefix + 'a/standardized_conv2d/kernel']))\n",
    "            self.conv2.weight.copy_(tf2th(weights[prefix + 'b/standardized_conv2d/kernel']))\n",
    "            self.conv3.weight.copy_(tf2th(weights[prefix + 'c/standardized_conv2d/kernel']))\n",
    "            self.gn1.weight.copy_(tf2th(weights[prefix + 'a/group_norm/gamma']))\n",
    "            self.gn2.weight.copy_(tf2th(weights[prefix + 'b/group_norm/gamma']))\n",
    "            self.gn3.weight.copy_(tf2th(weights[prefix + 'c/group_norm/gamma']))\n",
    "            self.gn1.bias.copy_(tf2th(weights[prefix + 'a/group_norm/beta']))\n",
    "            self.gn2.bias.copy_(tf2th(weights[prefix + 'b/group_norm/beta']))\n",
    "            self.gn3.bias.copy_(tf2th(weights[prefix + 'c/group_norm/beta']))\n",
    "            if hasattr(self, 'downsample'):\n",
    "                self.downsample.weight.copy_(tf2th(weights[prefix + 'a/proj/standardized_conv2d/kernel']))\n",
    "        return self"
   ]
  },
  {
   "cell_type": "code",
   "execution_count": 26,
   "id": "de3f1179",
   "metadata": {},
   "outputs": [],
   "source": [
    "class ResNetV2(nn.Module):\n",
    "    BLOCK_UNITS = {\n",
    "      'r50': [3, 4, 6, 3],\n",
    "      'r101': [3, 4, 23, 3],\n",
    "      'r152': [3, 8, 36, 3],\n",
    "    }\n",
    "\n",
    "    def __init__(self, block_units, width_factor, head_size=21843, zero_head=False):\n",
    "        super().__init__()\n",
    "        wf = width_factor  # shortcut 'cause we'll use it a lot.\n",
    "\n",
    "        self.root = nn.Sequential(OrderedDict([\n",
    "            ('conv', StdConv2d(3, 64*wf, kernel_size=7, stride=2, padding=3, bias=False)),\n",
    "            ('padp', nn.ConstantPad2d(1, 0)),\n",
    "            ('pool', nn.MaxPool2d(kernel_size=3, stride=2, padding=0)),\n",
    "            # The following is subtly not the same!\n",
    "            #('pool', nn.MaxPool2d(kernel_size=3, stride=2, padding=1)),\n",
    "        ]))\n",
    "\n",
    "        self.body = nn.Sequential(OrderedDict([\n",
    "            ('block1', nn.Sequential(OrderedDict(\n",
    "                [('unit01', PreActBottleneck(cin= 64*wf, cout=256*wf, cmid=64*wf))] +\n",
    "                [(f'unit{i:02d}', PreActBottleneck(cin=256*wf, cout=256*wf, cmid=64*wf)) for i in range(2, block_units[0] + 1)],\n",
    "            ))),\n",
    "            ('block2', nn.Sequential(OrderedDict(\n",
    "                [('unit01', PreActBottleneck(cin=256*wf, cout=512*wf, cmid=128*wf, stride=2))] +\n",
    "                [(f'unit{i:02d}', PreActBottleneck(cin=512*wf, cout=512*wf, cmid=128*wf)) for i in range(2, block_units[1] + 1)],\n",
    "            ))),\n",
    "            ('block3', nn.Sequential(OrderedDict(\n",
    "                [('unit01', PreActBottleneck(cin= 512*wf, cout=1024*wf, cmid=256*wf, stride=2))] +\n",
    "                [(f'unit{i:02d}', PreActBottleneck(cin=1024*wf, cout=1024*wf, cmid=256*wf)) for i in range(2, block_units[2] + 1)],\n",
    "            ))),\n",
    "            ('block4', nn.Sequential(OrderedDict(\n",
    "                [('unit01', PreActBottleneck(cin=1024*wf, cout=2048*wf, cmid=512*wf, stride=2))] +\n",
    "                [(f'unit{i:02d}', PreActBottleneck(cin=2048*wf, cout=2048*wf, cmid=512*wf)) for i in range(2, block_units[3] + 1)],\n",
    "            ))),\n",
    "        ]))\n",
    "\n",
    "        self.zero_head = zero_head\n",
    "        self.head = nn.Sequential(OrderedDict([\n",
    "            ('gn', nn.GroupNorm(32, 2048*wf)),\n",
    "            ('relu', nn.ReLU(inplace=True)),\n",
    "            ('avg', nn.AdaptiveAvgPool2d(output_size=1)),\n",
    "            ('conv', nn.Conv2d(2048*wf, head_size, kernel_size=1, bias=True)),\n",
    "        ]))\n",
    "  \n",
    "    def forward(self, x):\n",
    "        x = self.head(self.body(self.root(x)))\n",
    "        assert x.shape[-2:] == (1, 1)  # We should have no spatial shape left.\n",
    "        return x[...,0,0]\n",
    "\n",
    "    def load_from(self, weights, prefix='resnet/'):\n",
    "        with torch.no_grad():\n",
    "            self.root.conv.weight.copy_(tf2th(weights[f'{prefix}root_block/standardized_conv2d/kernel']))\n",
    "            self.head.gn.weight.copy_(tf2th(weights[f'{prefix}group_norm/gamma']))\n",
    "            self.head.gn.bias.copy_(tf2th(weights[f'{prefix}group_norm/beta']))\n",
    "            if self.zero_head:\n",
    "                nn.init.zeros_(self.head.conv.weight)\n",
    "                nn.init.zeros_(self.head.conv.bias)\n",
    "            else:\n",
    "                self.head.conv.weight.copy_(tf2th(weights[f'{prefix}head/conv2d/kernel']))\n",
    "                self.head.conv.bias.copy_(tf2th(weights[f'{prefix}head/conv2d/bias']))\n",
    "\n",
    "            for bname, block in self.body.named_children():\n",
    "                for uname, unit in block.named_children():\n",
    "                    unit.load_from(weights, prefix=f'{prefix}{bname}/{uname}/')\n",
    "        return self"
   ]
  },
  {
   "cell_type": "markdown",
   "id": "ef6a557a",
   "metadata": {},
   "source": [
    "# Boilerplate"
   ]
  },
  {
   "cell_type": "code",
   "execution_count": 27,
   "id": "bef13c64",
   "metadata": {},
   "outputs": [],
   "source": [
    "from IPython.display import HTML, display\n",
    "\n",
    "def progress(value, max=100):\n",
    "    return HTML(\"\"\"\n",
    "        \n",
    "            {value}\n",
    "        \n",
    "    \"\"\".format(value=value, max=max))"
   ]
  },
  {
   "cell_type": "code",
   "execution_count": 28,
   "id": "14656d5e",
   "metadata": {},
   "outputs": [],
   "source": [
    "def stairs(s, v, *svs):\n",
    "    \"\"\" Implements a typical \"stairs\" schedule for learning-rates.\n",
    "    Best explained by example:\n",
    "    stairs(s, 0.1, 10, 0.01, 20, 0.001)\n",
    "    will return 0.1 if s<10, 0.01 if 10<=s<20, and 0.001 if 20<=s\n",
    "    \"\"\"\n",
    "    for s0, v0 in zip(svs[::2], svs[1::2]):\n",
    "        if s < s0:\n",
    "            break\n",
    "        v = v0\n",
    "    return v\n",
    "\n",
    "def rampup(s, peak_s, peak_lr):\n",
    "    if s < peak_s:  # Warmup\n",
    "        return s/peak_s * peak_lr\n",
    "    else:\n",
    "        return peak_lr\n",
    "\n",
    "def schedule(s):\n",
    "    step_lr = stairs(s, 3e-3, 200, 3e-4, 300, 3e-5, 400, 3e-6, 500, None)\n",
    "    return rampup(s, 100, step_lr)"
   ]
  },
  {
   "cell_type": "markdown",
   "id": "91c15a51",
   "metadata": {},
   "source": [
    "# CIFAR-10 Example"
   ]
  },
  {
   "cell_type": "code",
   "execution_count": 29,
   "id": "b4592095",
   "metadata": {},
   "outputs": [],
   "source": [
    "import PIL     "
   ]
  },
  {
   "cell_type": "code",
   "execution_count": 30,
   "id": "3107ee4c",
   "metadata": {},
   "outputs": [
    {
     "name": "stdout",
     "output_type": "stream",
     "text": [
      "Files already downloaded and verified\n",
      "Files already downloaded and verified\n"
     ]
    }
   ],
   "source": [
    "preprocess_train = tv.transforms.Compose([\n",
    "    tv.transforms.Resize((160, 160), interpolation=PIL.Image.BILINEAR),  # It's the default, just being explicit for the reader.\n",
    "    tv.transforms.RandomCrop((128, 128)),\n",
    "    tv.transforms.RandomHorizontalFlip(),\n",
    "    tv.transforms.ToTensor(),\n",
    "    tv.transforms.Normalize((0.5, 0.5, 0.5), (0.5, 0.5, 0.5))  # Get data into [-1, 1]\n",
    "])\n",
    "\n",
    "preprocess_eval = tv.transforms.Compose([\n",
    "    tv.transforms.Resize((128, 128), interpolation=PIL.Image.BILINEAR),\n",
    "    tv.transforms.ToTensor(),\n",
    "    tv.transforms.Normalize((0.5, 0.5, 0.5), (0.5, 0.5, 0.5))\n",
    "])\n",
    "\n",
    "trainset = tv.datasets.CIFAR10(root='./data', train=True, download=True, transform=preprocess_train)\n",
    "testset = tv.datasets.CIFAR10(root='./data', train=False, download=True, transform=preprocess_eval)\n"
   ]
  },
  {
   "cell_type": "markdown",
   "id": "52adae69",
   "metadata": {},
   "source": [
    "# Eval pre-trained model (verify conversion)"
   ]
  },
  {
   "cell_type": "code",
   "execution_count": 31,
   "id": "53b90549",
   "metadata": {},
   "outputs": [],
   "source": [
    "weights_cifar10 = get_weights('BiT-M-R50x1-CIFAR10')"
   ]
  },
  {
   "cell_type": "code",
   "execution_count": 32,
   "id": "b394b107",
   "metadata": {},
   "outputs": [],
   "source": [
    "model = ResNetV2(ResNetV2.BLOCK_UNITS['r50'], width_factor=1, head_size=10)  # NOTE: No new head.\n",
    "model.load_from(weights_cifar10)\n",
    "model.to(device);"
   ]
  },
  {
   "cell_type": "code",
   "execution_count": 33,
   "id": "51a2cb76",
   "metadata": {},
   "outputs": [
    {
     "name": "stdout",
     "output_type": "stream",
     "text": [
      "ResNetV2(\n",
      "  (root): Sequential(\n",
      "    (conv): StdConv2d(3, 64, kernel_size=(7, 7), stride=(2, 2), padding=(3, 3), bias=False)\n",
      "    (padp): ConstantPad2d(padding=(1, 1, 1, 1), value=0)\n",
      "    (pool): MaxPool2d(kernel_size=3, stride=2, padding=0, dilation=1, ceil_mode=False)\n",
      "  )\n",
      "  (body): Sequential(\n",
      "    (block1): Sequential(\n",
      "      (unit01): PreActBottleneck(\n",
      "        (gn1): GroupNorm(32, 64, eps=1e-05, affine=True)\n",
      "        (conv1): StdConv2d(64, 64, kernel_size=(1, 1), stride=(1, 1), bias=False)\n",
      "        (gn2): GroupNorm(32, 64, eps=1e-05, affine=True)\n",
      "        (conv2): StdConv2d(64, 64, kernel_size=(3, 3), stride=(1, 1), padding=(1, 1), bias=False)\n",
      "        (gn3): GroupNorm(32, 64, eps=1e-05, affine=True)\n",
      "        (conv3): StdConv2d(64, 256, kernel_size=(1, 1), stride=(1, 1), bias=False)\n",
      "        (relu): ReLU(inplace=True)\n",
      "        (downsample): StdConv2d(64, 256, kernel_size=(1, 1), stride=(1, 1), bias=False)\n",
      "      )\n",
      "      (unit02): PreActBottleneck(\n",
      "        (gn1): GroupNorm(32, 256, eps=1e-05, affine=True)\n",
      "        (conv1): StdConv2d(256, 64, kernel_size=(1, 1), stride=(1, 1), bias=False)\n",
      "        (gn2): GroupNorm(32, 64, eps=1e-05, affine=True)\n",
      "        (conv2): StdConv2d(64, 64, kernel_size=(3, 3), stride=(1, 1), padding=(1, 1), bias=False)\n",
      "        (gn3): GroupNorm(32, 64, eps=1e-05, affine=True)\n",
      "        (conv3): StdConv2d(64, 256, kernel_size=(1, 1), stride=(1, 1), bias=False)\n",
      "        (relu): ReLU(inplace=True)\n",
      "      )\n",
      "      (unit03): PreActBottleneck(\n",
      "        (gn1): GroupNorm(32, 256, eps=1e-05, affine=True)\n",
      "        (conv1): StdConv2d(256, 64, kernel_size=(1, 1), stride=(1, 1), bias=False)\n",
      "        (gn2): GroupNorm(32, 64, eps=1e-05, affine=True)\n",
      "        (conv2): StdConv2d(64, 64, kernel_size=(3, 3), stride=(1, 1), padding=(1, 1), bias=False)\n",
      "        (gn3): GroupNorm(32, 64, eps=1e-05, affine=True)\n",
      "        (conv3): StdConv2d(64, 256, kernel_size=(1, 1), stride=(1, 1), bias=False)\n",
      "        (relu): ReLU(inplace=True)\n",
      "      )\n",
      "    )\n",
      "    (block2): Sequential(\n",
      "      (unit01): PreActBottleneck(\n",
      "        (gn1): GroupNorm(32, 256, eps=1e-05, affine=True)\n",
      "        (conv1): StdConv2d(256, 128, kernel_size=(1, 1), stride=(1, 1), bias=False)\n",
      "        (gn2): GroupNorm(32, 128, eps=1e-05, affine=True)\n",
      "        (conv2): StdConv2d(128, 128, kernel_size=(3, 3), stride=(2, 2), padding=(1, 1), bias=False)\n",
      "        (gn3): GroupNorm(32, 128, eps=1e-05, affine=True)\n",
      "        (conv3): StdConv2d(128, 512, kernel_size=(1, 1), stride=(1, 1), bias=False)\n",
      "        (relu): ReLU(inplace=True)\n",
      "        (downsample): StdConv2d(256, 512, kernel_size=(1, 1), stride=(2, 2), bias=False)\n",
      "      )\n",
      "      (unit02): PreActBottleneck(\n",
      "        (gn1): GroupNorm(32, 512, eps=1e-05, affine=True)\n",
      "        (conv1): StdConv2d(512, 128, kernel_size=(1, 1), stride=(1, 1), bias=False)\n",
      "        (gn2): GroupNorm(32, 128, eps=1e-05, affine=True)\n",
      "        (conv2): StdConv2d(128, 128, kernel_size=(3, 3), stride=(1, 1), padding=(1, 1), bias=False)\n",
      "        (gn3): GroupNorm(32, 128, eps=1e-05, affine=True)\n",
      "        (conv3): StdConv2d(128, 512, kernel_size=(1, 1), stride=(1, 1), bias=False)\n",
      "        (relu): ReLU(inplace=True)\n",
      "      )\n",
      "      (unit03): PreActBottleneck(\n",
      "        (gn1): GroupNorm(32, 512, eps=1e-05, affine=True)\n",
      "        (conv1): StdConv2d(512, 128, kernel_size=(1, 1), stride=(1, 1), bias=False)\n",
      "        (gn2): GroupNorm(32, 128, eps=1e-05, affine=True)\n",
      "        (conv2): StdConv2d(128, 128, kernel_size=(3, 3), stride=(1, 1), padding=(1, 1), bias=False)\n",
      "        (gn3): GroupNorm(32, 128, eps=1e-05, affine=True)\n",
      "        (conv3): StdConv2d(128, 512, kernel_size=(1, 1), stride=(1, 1), bias=False)\n",
      "        (relu): ReLU(inplace=True)\n",
      "      )\n",
      "      (unit04): PreActBottleneck(\n",
      "        (gn1): GroupNorm(32, 512, eps=1e-05, affine=True)\n",
      "        (conv1): StdConv2d(512, 128, kernel_size=(1, 1), stride=(1, 1), bias=False)\n",
      "        (gn2): GroupNorm(32, 128, eps=1e-05, affine=True)\n",
      "        (conv2): StdConv2d(128, 128, kernel_size=(3, 3), stride=(1, 1), padding=(1, 1), bias=False)\n",
      "        (gn3): GroupNorm(32, 128, eps=1e-05, affine=True)\n",
      "        (conv3): StdConv2d(128, 512, kernel_size=(1, 1), stride=(1, 1), bias=False)\n",
      "        (relu): ReLU(inplace=True)\n",
      "      )\n",
      "    )\n",
      "    (block3): Sequential(\n",
      "      (unit01): PreActBottleneck(\n",
      "        (gn1): GroupNorm(32, 512, eps=1e-05, affine=True)\n",
      "        (conv1): StdConv2d(512, 256, kernel_size=(1, 1), stride=(1, 1), bias=False)\n",
      "        (gn2): GroupNorm(32, 256, eps=1e-05, affine=True)\n",
      "        (conv2): StdConv2d(256, 256, kernel_size=(3, 3), stride=(2, 2), padding=(1, 1), bias=False)\n",
      "        (gn3): GroupNorm(32, 256, eps=1e-05, affine=True)\n",
      "        (conv3): StdConv2d(256, 1024, kernel_size=(1, 1), stride=(1, 1), bias=False)\n",
      "        (relu): ReLU(inplace=True)\n",
      "        (downsample): StdConv2d(512, 1024, kernel_size=(1, 1), stride=(2, 2), bias=False)\n",
      "      )\n",
      "      (unit02): PreActBottleneck(\n",
      "        (gn1): GroupNorm(32, 1024, eps=1e-05, affine=True)\n",
      "        (conv1): StdConv2d(1024, 256, kernel_size=(1, 1), stride=(1, 1), bias=False)\n",
      "        (gn2): GroupNorm(32, 256, eps=1e-05, affine=True)\n",
      "        (conv2): StdConv2d(256, 256, kernel_size=(3, 3), stride=(1, 1), padding=(1, 1), bias=False)\n",
      "        (gn3): GroupNorm(32, 256, eps=1e-05, affine=True)\n",
      "        (conv3): StdConv2d(256, 1024, kernel_size=(1, 1), stride=(1, 1), bias=False)\n",
      "        (relu): ReLU(inplace=True)\n",
      "      )\n",
      "      (unit03): PreActBottleneck(\n",
      "        (gn1): GroupNorm(32, 1024, eps=1e-05, affine=True)\n",
      "        (conv1): StdConv2d(1024, 256, kernel_size=(1, 1), stride=(1, 1), bias=False)\n",
      "        (gn2): GroupNorm(32, 256, eps=1e-05, affine=True)\n",
      "        (conv2): StdConv2d(256, 256, kernel_size=(3, 3), stride=(1, 1), padding=(1, 1), bias=False)\n",
      "        (gn3): GroupNorm(32, 256, eps=1e-05, affine=True)\n",
      "        (conv3): StdConv2d(256, 1024, kernel_size=(1, 1), stride=(1, 1), bias=False)\n",
      "        (relu): ReLU(inplace=True)\n",
      "      )\n",
      "      (unit04): PreActBottleneck(\n",
      "        (gn1): GroupNorm(32, 1024, eps=1e-05, affine=True)\n",
      "        (conv1): StdConv2d(1024, 256, kernel_size=(1, 1), stride=(1, 1), bias=False)\n",
      "        (gn2): GroupNorm(32, 256, eps=1e-05, affine=True)\n",
      "        (conv2): StdConv2d(256, 256, kernel_size=(3, 3), stride=(1, 1), padding=(1, 1), bias=False)\n",
      "        (gn3): GroupNorm(32, 256, eps=1e-05, affine=True)\n",
      "        (conv3): StdConv2d(256, 1024, kernel_size=(1, 1), stride=(1, 1), bias=False)\n",
      "        (relu): ReLU(inplace=True)\n",
      "      )\n",
      "      (unit05): PreActBottleneck(\n",
      "        (gn1): GroupNorm(32, 1024, eps=1e-05, affine=True)\n",
      "        (conv1): StdConv2d(1024, 256, kernel_size=(1, 1), stride=(1, 1), bias=False)\n",
      "        (gn2): GroupNorm(32, 256, eps=1e-05, affine=True)\n",
      "        (conv2): StdConv2d(256, 256, kernel_size=(3, 3), stride=(1, 1), padding=(1, 1), bias=False)\n",
      "        (gn3): GroupNorm(32, 256, eps=1e-05, affine=True)\n",
      "        (conv3): StdConv2d(256, 1024, kernel_size=(1, 1), stride=(1, 1), bias=False)\n",
      "        (relu): ReLU(inplace=True)\n",
      "      )\n",
      "      (unit06): PreActBottleneck(\n",
      "        (gn1): GroupNorm(32, 1024, eps=1e-05, affine=True)\n",
      "        (conv1): StdConv2d(1024, 256, kernel_size=(1, 1), stride=(1, 1), bias=False)\n",
      "        (gn2): GroupNorm(32, 256, eps=1e-05, affine=True)\n",
      "        (conv2): StdConv2d(256, 256, kernel_size=(3, 3), stride=(1, 1), padding=(1, 1), bias=False)\n",
      "        (gn3): GroupNorm(32, 256, eps=1e-05, affine=True)\n",
      "        (conv3): StdConv2d(256, 1024, kernel_size=(1, 1), stride=(1, 1), bias=False)\n",
      "        (relu): ReLU(inplace=True)\n",
      "      )\n",
      "    )\n",
      "    (block4): Sequential(\n",
      "      (unit01): PreActBottleneck(\n",
      "        (gn1): GroupNorm(32, 1024, eps=1e-05, affine=True)\n",
      "        (conv1): StdConv2d(1024, 512, kernel_size=(1, 1), stride=(1, 1), bias=False)\n",
      "        (gn2): GroupNorm(32, 512, eps=1e-05, affine=True)\n",
      "        (conv2): StdConv2d(512, 512, kernel_size=(3, 3), stride=(2, 2), padding=(1, 1), bias=False)\n",
      "        (gn3): GroupNorm(32, 512, eps=1e-05, affine=True)\n",
      "        (conv3): StdConv2d(512, 2048, kernel_size=(1, 1), stride=(1, 1), bias=False)\n",
      "        (relu): ReLU(inplace=True)\n",
      "        (downsample): StdConv2d(1024, 2048, kernel_size=(1, 1), stride=(2, 2), bias=False)\n",
      "      )\n",
      "      (unit02): PreActBottleneck(\n",
      "        (gn1): GroupNorm(32, 2048, eps=1e-05, affine=True)\n",
      "        (conv1): StdConv2d(2048, 512, kernel_size=(1, 1), stride=(1, 1), bias=False)\n",
      "        (gn2): GroupNorm(32, 512, eps=1e-05, affine=True)\n",
      "        (conv2): StdConv2d(512, 512, kernel_size=(3, 3), stride=(1, 1), padding=(1, 1), bias=False)\n",
      "        (gn3): GroupNorm(32, 512, eps=1e-05, affine=True)\n",
      "        (conv3): StdConv2d(512, 2048, kernel_size=(1, 1), stride=(1, 1), bias=False)\n",
      "        (relu): ReLU(inplace=True)\n",
      "      )\n",
      "      (unit03): PreActBottleneck(\n",
      "        (gn1): GroupNorm(32, 2048, eps=1e-05, affine=True)\n",
      "        (conv1): StdConv2d(2048, 512, kernel_size=(1, 1), stride=(1, 1), bias=False)\n",
      "        (gn2): GroupNorm(32, 512, eps=1e-05, affine=True)\n",
      "        (conv2): StdConv2d(512, 512, kernel_size=(3, 3), stride=(1, 1), padding=(1, 1), bias=False)\n",
      "        (gn3): GroupNorm(32, 512, eps=1e-05, affine=True)\n",
      "        (conv3): StdConv2d(512, 2048, kernel_size=(1, 1), stride=(1, 1), bias=False)\n",
      "        (relu): ReLU(inplace=True)\n",
      "      )\n",
      "    )\n",
      "  )\n",
      "  (head): Sequential(\n",
      "    (gn): GroupNorm(32, 2048, eps=1e-05, affine=True)\n",
      "    (relu): ReLU(inplace=True)\n",
      "    (avg): AdaptiveAvgPool2d(output_size=1)\n",
      "    (conv): Conv2d(2048, 10, kernel_size=(1, 1), stride=(1, 1))\n",
      "  )\n",
      ")\n"
     ]
    }
   ],
   "source": [
    "print(model)"
   ]
  },
  {
   "cell_type": "code",
   "execution_count": 34,
   "id": "c2854098",
   "metadata": {},
   "outputs": [],
   "source": [
    "def eval_cifar10(model, bs=100, progressbar=True):\n",
    "    loader_test = torch.utils.data.DataLoader(testset, batch_size=bs, shuffle=False, num_workers=2)\n",
    "\n",
    "    model.eval()\n",
    "\n",
    "    if progressbar is True:\n",
    "        progressbar = display(progress(0, len(loader_test)), display_id=True)\n",
    "\n",
    "    preds = []\n",
    "    with torch.no_grad():\n",
    "        for i, (x, t) in enumerate(loader_test):\n",
    "            x, t = x.to(device), t.numpy()\n",
    "            logits = model(x)\n",
    "            _, y = torch.max(logits.data, 1)\n",
    "            preds.extend(y.cpu().numpy() == t)\n",
    "            progressbar.update(progress(i+1, len(loader_test)))\n",
    "\n",
    "    return np.mean(preds)"
   ]
  },
  {
   "cell_type": "code",
   "execution_count": 35,
   "id": "ae7186ed",
   "metadata": {},
   "outputs": [
    {
     "name": "stdout",
     "output_type": "stream",
     "text": [
      "Expected: 97.61%\n"
     ]
    },
    {
     "data": {
      "text/html": [
       "\n",
       "        \n",
       "            100\n",
       "        \n",
       "    "
      ],
      "text/plain": [
       "<IPython.core.display.HTML object>"
      ]
     },
     "metadata": {},
     "output_type": "display_data"
    },
    {
     "name": "stdout",
     "output_type": "stream",
     "text": [
      "Accuracy: 97.61%\n"
     ]
    }
   ],
   "source": [
    "print(\"Expected: 97.61%\")\n",
    "print(f\"Accuracy: {eval_cifar10(model):.2%}\")"
   ]
  },
  {
   "cell_type": "code",
   "execution_count": null,
   "id": "33bfef49",
   "metadata": {},
   "outputs": [],
   "source": []
  }
 ],
 "metadata": {
  "kernelspec": {
   "display_name": "Python 3 (ipykernel)",
   "language": "python",
   "name": "python3"
  },
  "language_info": {
   "codemirror_mode": {
    "name": "ipython",
    "version": 3
   },
   "file_extension": ".py",
   "mimetype": "text/x-python",
   "name": "python",
   "nbconvert_exporter": "python",
   "pygments_lexer": "ipython3",
   "version": "3.10.11"
  }
 },
 "nbformat": 4,
 "nbformat_minor": 5
}
